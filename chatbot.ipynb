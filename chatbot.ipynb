{
 "cells": [
  {
   "cell_type": "code",
   "execution_count": 3,
   "id": "a7a353aa-3f2d-477d-93e1-ac7721901183",
   "metadata": {},
   "outputs": [
    {
     "name": "stdout",
     "output_type": "stream",
     "text": [
      "Collecting swarmauri==0.4.1\n",
      "  Using cached swarmauri-0.4.1-py3-none-any.whl.metadata (4.8 kB)\n",
      "Collecting numpy (from swarmauri==0.4.1)\n",
      "  Downloading numpy-2.1.1-cp311-cp311-macosx_14_0_arm64.whl.metadata (60 kB)\n",
      "Requirement already satisfied: requests in /opt/anaconda3/envs/notebook/lib/python3.11/site-packages (from swarmauri==0.4.1) (2.32.3)\n",
      "Collecting pydantic (from swarmauri==0.4.1)\n",
      "  Downloading pydantic-2.9.1-py3-none-any.whl.metadata (146 kB)\n",
      "Collecting annotated-types>=0.6.0 (from pydantic->swarmauri==0.4.1)\n",
      "  Downloading annotated_types-0.7.0-py3-none-any.whl.metadata (15 kB)\n",
      "Collecting pydantic-core==2.23.3 (from pydantic->swarmauri==0.4.1)\n",
      "  Downloading pydantic_core-2.23.3-cp311-cp311-macosx_11_0_arm64.whl.metadata (6.6 kB)\n",
      "Requirement already satisfied: typing-extensions>=4.6.1 in /opt/anaconda3/envs/notebook/lib/python3.11/site-packages (from pydantic->swarmauri==0.4.1) (4.11.0)\n",
      "Requirement already satisfied: charset-normalizer<4,>=2 in /opt/anaconda3/envs/notebook/lib/python3.11/site-packages (from requests->swarmauri==0.4.1) (3.3.2)\n",
      "Requirement already satisfied: idna<4,>=2.5 in /opt/anaconda3/envs/notebook/lib/python3.11/site-packages (from requests->swarmauri==0.4.1) (3.7)\n",
      "Requirement already satisfied: urllib3<3,>=1.21.1 in /opt/anaconda3/envs/notebook/lib/python3.11/site-packages (from requests->swarmauri==0.4.1) (2.2.2)\n",
      "Requirement already satisfied: certifi>=2017.4.17 in /opt/anaconda3/envs/notebook/lib/python3.11/site-packages (from requests->swarmauri==0.4.1) (2024.8.30)\n",
      "Using cached swarmauri-0.4.1-py3-none-any.whl (259 kB)\n",
      "Downloading numpy-2.1.1-cp311-cp311-macosx_14_0_arm64.whl (5.4 MB)\n",
      "\u001b[2K   \u001b[90m━━━━━━━━━━━━━━━━━━━━━━━━━━━━━━━━━━━━━━━━\u001b[0m \u001b[32m5.4/5.4 MB\u001b[0m \u001b[31m3.9 MB/s\u001b[0m eta \u001b[36m0:00:00\u001b[0ma \u001b[36m0:00:01\u001b[0m\n",
      "\u001b[?25hDownloading pydantic-2.9.1-py3-none-any.whl (434 kB)\n",
      "Downloading pydantic_core-2.23.3-cp311-cp311-macosx_11_0_arm64.whl (1.8 MB)\n",
      "\u001b[2K   \u001b[90m━━━━━━━━━━━━━━━━━━━━━━━━━━━━━━━━━━━━━━━━\u001b[0m \u001b[32m1.8/1.8 MB\u001b[0m \u001b[31m3.8 MB/s\u001b[0m eta \u001b[36m0:00:00\u001b[0ma \u001b[36m0:00:01\u001b[0m\n",
      "\u001b[?25hDownloading annotated_types-0.7.0-py3-none-any.whl (13 kB)\n",
      "Installing collected packages: pydantic-core, numpy, annotated-types, pydantic, swarmauri\n",
      "Successfully installed annotated-types-0.7.0 numpy-2.1.1 pydantic-2.9.1 pydantic-core-2.23.3 swarmauri-0.4.1\n",
      "Note: you may need to restart the kernel to use updated packages.\n"
     ]
    }
   ],
   "source": [
    "pip install swarmauri==0.4.1\n"
   ]
  },
  {
   "cell_type": "code",
   "execution_count": 4,
   "id": "76dc5895-43f1-430e-8bd0-7573d17f7430",
   "metadata": {},
   "outputs": [
    {
     "name": "stdout",
     "output_type": "stream",
     "text": [
      "Collecting python-dotenv\n",
      "  Using cached python_dotenv-1.0.1-py3-none-any.whl.metadata (23 kB)\n",
      "Collecting gradio\n",
      "  Using cached gradio-4.43.0-py3-none-any.whl.metadata (15 kB)\n",
      "Requirement already satisfied: swarmauri in /opt/anaconda3/envs/notebook/lib/python3.11/site-packages (0.4.1)\n",
      "Collecting aiofiles<24.0,>=22.0 (from gradio)\n",
      "  Using cached aiofiles-23.2.1-py3-none-any.whl.metadata (9.7 kB)\n",
      "Requirement already satisfied: anyio<5.0,>=3.0 in /opt/anaconda3/envs/notebook/lib/python3.11/site-packages (from gradio) (4.2.0)\n",
      "Collecting fastapi<0.113.0 (from gradio)\n",
      "  Using cached fastapi-0.112.4-py3-none-any.whl.metadata (27 kB)\n",
      "Collecting ffmpy (from gradio)\n",
      "  Using cached ffmpy-0.4.0-py3-none-any.whl.metadata (2.9 kB)\n",
      "Collecting gradio-client==1.3.0 (from gradio)\n",
      "  Using cached gradio_client-1.3.0-py3-none-any.whl.metadata (7.1 kB)\n",
      "Collecting httpx>=0.24.1 (from gradio)\n",
      "  Using cached httpx-0.27.2-py3-none-any.whl.metadata (7.1 kB)\n",
      "Collecting huggingface-hub>=0.19.3 (from gradio)\n",
      "  Using cached huggingface_hub-0.24.6-py3-none-any.whl.metadata (13 kB)\n",
      "Collecting importlib-resources<7.0,>=1.3 (from gradio)\n",
      "  Using cached importlib_resources-6.4.5-py3-none-any.whl.metadata (4.0 kB)\n",
      "Requirement already satisfied: jinja2<4.0 in /opt/anaconda3/envs/notebook/lib/python3.11/site-packages (from gradio) (3.1.4)\n",
      "Requirement already satisfied: markupsafe~=2.0 in /opt/anaconda3/envs/notebook/lib/python3.11/site-packages (from gradio) (2.1.3)\n",
      "Collecting matplotlib~=3.0 (from gradio)\n",
      "  Downloading matplotlib-3.9.2-cp311-cp311-macosx_11_0_arm64.whl.metadata (11 kB)\n",
      "Requirement already satisfied: numpy<3.0,>=1.0 in /opt/anaconda3/envs/notebook/lib/python3.11/site-packages (from gradio) (2.1.1)\n",
      "Collecting orjson~=3.0 (from gradio)\n",
      "  Downloading orjson-3.10.7-cp311-cp311-macosx_10_15_x86_64.macosx_11_0_arm64.macosx_10_15_universal2.whl.metadata (50 kB)\n",
      "Requirement already satisfied: packaging in /opt/anaconda3/envs/notebook/lib/python3.11/site-packages (from gradio) (24.1)\n",
      "Collecting pandas<3.0,>=1.0 (from gradio)\n",
      "  Downloading pandas-2.2.2-cp311-cp311-macosx_11_0_arm64.whl.metadata (19 kB)\n",
      "Collecting pillow<11.0,>=8.0 (from gradio)\n",
      "  Downloading pillow-10.4.0-cp311-cp311-macosx_11_0_arm64.whl.metadata (9.2 kB)\n",
      "Requirement already satisfied: pydantic>=2.0 in /opt/anaconda3/envs/notebook/lib/python3.11/site-packages (from gradio) (2.9.1)\n",
      "Collecting pydub (from gradio)\n",
      "  Using cached pydub-0.25.1-py2.py3-none-any.whl.metadata (1.4 kB)\n",
      "Collecting python-multipart>=0.0.9 (from gradio)\n",
      "  Using cached python_multipart-0.0.9-py3-none-any.whl.metadata (2.5 kB)\n",
      "Requirement already satisfied: pyyaml<7.0,>=5.0 in /opt/anaconda3/envs/notebook/lib/python3.11/site-packages (from gradio) (6.0.1)\n",
      "Collecting ruff>=0.2.2 (from gradio)\n",
      "  Using cached ruff-0.6.4-py3-none-macosx_11_0_arm64.whl.metadata (25 kB)\n",
      "Collecting semantic-version~=2.0 (from gradio)\n",
      "  Using cached semantic_version-2.10.0-py2.py3-none-any.whl.metadata (9.7 kB)\n",
      "Collecting tomlkit==0.12.0 (from gradio)\n",
      "  Using cached tomlkit-0.12.0-py3-none-any.whl.metadata (2.7 kB)\n",
      "Collecting typer<1.0,>=0.12 (from gradio)\n",
      "  Using cached typer-0.12.5-py3-none-any.whl.metadata (15 kB)\n",
      "Requirement already satisfied: typing-extensions~=4.0 in /opt/anaconda3/envs/notebook/lib/python3.11/site-packages (from gradio) (4.11.0)\n",
      "Requirement already satisfied: urllib3~=2.0 in /opt/anaconda3/envs/notebook/lib/python3.11/site-packages (from gradio) (2.2.2)\n",
      "Collecting uvicorn>=0.14.0 (from gradio)\n",
      "  Using cached uvicorn-0.30.6-py3-none-any.whl.metadata (6.6 kB)\n",
      "Collecting fsspec (from gradio-client==1.3.0->gradio)\n",
      "  Downloading fsspec-2024.9.0-py3-none-any.whl.metadata (11 kB)\n",
      "Collecting websockets<13.0,>=10.0 (from gradio-client==1.3.0->gradio)\n",
      "  Downloading websockets-12.0-cp311-cp311-macosx_11_0_arm64.whl.metadata (6.6 kB)\n",
      "Requirement already satisfied: requests in /opt/anaconda3/envs/notebook/lib/python3.11/site-packages (from swarmauri) (2.32.3)\n",
      "Requirement already satisfied: idna>=2.8 in /opt/anaconda3/envs/notebook/lib/python3.11/site-packages (from anyio<5.0,>=3.0->gradio) (3.7)\n",
      "Requirement already satisfied: sniffio>=1.1 in /opt/anaconda3/envs/notebook/lib/python3.11/site-packages (from anyio<5.0,>=3.0->gradio) (1.3.0)\n",
      "Collecting starlette<0.39.0,>=0.37.2 (from fastapi<0.113.0->gradio)\n",
      "  Using cached starlette-0.38.5-py3-none-any.whl.metadata (6.0 kB)\n",
      "Requirement already satisfied: certifi in /opt/anaconda3/envs/notebook/lib/python3.11/site-packages (from httpx>=0.24.1->gradio) (2024.8.30)\n",
      "Collecting httpcore==1.* (from httpx>=0.24.1->gradio)\n",
      "  Using cached httpcore-1.0.5-py3-none-any.whl.metadata (20 kB)\n",
      "Collecting h11<0.15,>=0.13 (from httpcore==1.*->httpx>=0.24.1->gradio)\n",
      "  Using cached h11-0.14.0-py3-none-any.whl.metadata (8.2 kB)\n",
      "Collecting filelock (from huggingface-hub>=0.19.3->gradio)\n",
      "  Downloading filelock-3.16.0-py3-none-any.whl.metadata (3.0 kB)\n",
      "Collecting tqdm>=4.42.1 (from huggingface-hub>=0.19.3->gradio)\n",
      "  Downloading tqdm-4.66.5-py3-none-any.whl.metadata (57 kB)\n",
      "Collecting contourpy>=1.0.1 (from matplotlib~=3.0->gradio)\n",
      "  Downloading contourpy-1.3.0-cp311-cp311-macosx_11_0_arm64.whl.metadata (5.4 kB)\n",
      "Collecting cycler>=0.10 (from matplotlib~=3.0->gradio)\n",
      "  Using cached cycler-0.12.1-py3-none-any.whl.metadata (3.8 kB)\n",
      "Collecting fonttools>=4.22.0 (from matplotlib~=3.0->gradio)\n",
      "  Downloading fonttools-4.53.1-cp311-cp311-macosx_11_0_arm64.whl.metadata (162 kB)\n",
      "Collecting kiwisolver>=1.3.1 (from matplotlib~=3.0->gradio)\n",
      "  Downloading kiwisolver-1.4.7-cp311-cp311-macosx_11_0_arm64.whl.metadata (6.3 kB)\n",
      "Collecting pyparsing>=2.3.1 (from matplotlib~=3.0->gradio)\n",
      "  Downloading pyparsing-3.1.4-py3-none-any.whl.metadata (5.1 kB)\n",
      "Requirement already satisfied: python-dateutil>=2.7 in /opt/anaconda3/envs/notebook/lib/python3.11/site-packages (from matplotlib~=3.0->gradio) (2.9.0.post0)\n",
      "Requirement already satisfied: pytz>=2020.1 in /opt/anaconda3/envs/notebook/lib/python3.11/site-packages (from pandas<3.0,>=1.0->gradio) (2024.1)\n",
      "Collecting tzdata>=2022.7 (from pandas<3.0,>=1.0->gradio)\n",
      "  Using cached tzdata-2024.1-py2.py3-none-any.whl.metadata (1.4 kB)\n",
      "Requirement already satisfied: annotated-types>=0.6.0 in /opt/anaconda3/envs/notebook/lib/python3.11/site-packages (from pydantic>=2.0->gradio) (0.7.0)\n",
      "Requirement already satisfied: pydantic-core==2.23.3 in /opt/anaconda3/envs/notebook/lib/python3.11/site-packages (from pydantic>=2.0->gradio) (2.23.3)\n",
      "Collecting click>=8.0.0 (from typer<1.0,>=0.12->gradio)\n",
      "  Using cached click-8.1.7-py3-none-any.whl.metadata (3.0 kB)\n",
      "Collecting shellingham>=1.3.0 (from typer<1.0,>=0.12->gradio)\n",
      "  Using cached shellingham-1.5.4-py2.py3-none-any.whl.metadata (3.5 kB)\n",
      "Collecting rich>=10.11.0 (from typer<1.0,>=0.12->gradio)\n",
      "  Downloading rich-13.8.0-py3-none-any.whl.metadata (18 kB)\n",
      "Requirement already satisfied: charset-normalizer<4,>=2 in /opt/anaconda3/envs/notebook/lib/python3.11/site-packages (from requests->swarmauri) (3.3.2)\n",
      "Requirement already satisfied: six>=1.5 in /opt/anaconda3/envs/notebook/lib/python3.11/site-packages (from python-dateutil>=2.7->matplotlib~=3.0->gradio) (1.16.0)\n",
      "Collecting markdown-it-py>=2.2.0 (from rich>=10.11.0->typer<1.0,>=0.12->gradio)\n",
      "  Using cached markdown_it_py-3.0.0-py3-none-any.whl.metadata (6.9 kB)\n",
      "Requirement already satisfied: pygments<3.0.0,>=2.13.0 in /opt/anaconda3/envs/notebook/lib/python3.11/site-packages (from rich>=10.11.0->typer<1.0,>=0.12->gradio) (2.15.1)\n",
      "Collecting mdurl~=0.1 (from markdown-it-py>=2.2.0->rich>=10.11.0->typer<1.0,>=0.12->gradio)\n",
      "  Using cached mdurl-0.1.2-py3-none-any.whl.metadata (1.6 kB)\n",
      "Using cached python_dotenv-1.0.1-py3-none-any.whl (19 kB)\n",
      "Using cached gradio-4.43.0-py3-none-any.whl (18.1 MB)\n",
      "Using cached gradio_client-1.3.0-py3-none-any.whl (318 kB)\n",
      "Using cached tomlkit-0.12.0-py3-none-any.whl (37 kB)\n",
      "Using cached aiofiles-23.2.1-py3-none-any.whl (15 kB)\n",
      "Using cached fastapi-0.112.4-py3-none-any.whl (93 kB)\n",
      "Using cached httpx-0.27.2-py3-none-any.whl (76 kB)\n",
      "Using cached httpcore-1.0.5-py3-none-any.whl (77 kB)\n",
      "Using cached huggingface_hub-0.24.6-py3-none-any.whl (417 kB)\n",
      "Using cached importlib_resources-6.4.5-py3-none-any.whl (36 kB)\n",
      "Downloading matplotlib-3.9.2-cp311-cp311-macosx_11_0_arm64.whl (7.8 MB)\n",
      "\u001b[2K   \u001b[90m━━━━━━━━━━━━━━━━━━━━━━━━━━━━━━━━━━━━━━━━\u001b[0m \u001b[32m7.8/7.8 MB\u001b[0m \u001b[31m3.7 MB/s\u001b[0m eta \u001b[36m0:00:00\u001b[0ma \u001b[36m0:00:01\u001b[0m\n",
      "\u001b[?25hDownloading orjson-3.10.7-cp311-cp311-macosx_10_15_x86_64.macosx_11_0_arm64.macosx_10_15_universal2.whl (251 kB)\n",
      "Downloading pandas-2.2.2-cp311-cp311-macosx_11_0_arm64.whl (11.3 MB)\n",
      "\u001b[2K   \u001b[90m━━━━━━━━━━━━━━━━━━━━━━━━━━━━━━━━━━━━━━━━\u001b[0m \u001b[32m11.3/11.3 MB\u001b[0m \u001b[31m3.5 MB/s\u001b[0m eta \u001b[36m0:00:00\u001b[0ma \u001b[36m0:00:01\u001b[0m\n",
      "\u001b[?25hDownloading pillow-10.4.0-cp311-cp311-macosx_11_0_arm64.whl (3.4 MB)\n",
      "\u001b[2K   \u001b[90m━━━━━━━━━━━━━━━━━━━━━━━━━━━━━━━━━━━━━━━━\u001b[0m \u001b[32m3.4/3.4 MB\u001b[0m \u001b[31m3.6 MB/s\u001b[0m eta \u001b[36m0:00:00\u001b[0ma \u001b[36m0:00:01\u001b[0m\n",
      "\u001b[?25hUsing cached python_multipart-0.0.9-py3-none-any.whl (22 kB)\n",
      "Using cached ruff-0.6.4-py3-none-macosx_11_0_arm64.whl (9.2 MB)\n",
      "Using cached semantic_version-2.10.0-py2.py3-none-any.whl (15 kB)\n",
      "Using cached typer-0.12.5-py3-none-any.whl (47 kB)\n",
      "Using cached uvicorn-0.30.6-py3-none-any.whl (62 kB)\n",
      "Using cached ffmpy-0.4.0-py3-none-any.whl (5.8 kB)\n",
      "Using cached pydub-0.25.1-py2.py3-none-any.whl (32 kB)\n",
      "Using cached click-8.1.7-py3-none-any.whl (97 kB)\n",
      "Downloading contourpy-1.3.0-cp311-cp311-macosx_11_0_arm64.whl (250 kB)\n",
      "Using cached cycler-0.12.1-py3-none-any.whl (8.3 kB)\n",
      "Downloading fonttools-4.53.1-cp311-cp311-macosx_11_0_arm64.whl (2.2 MB)\n",
      "\u001b[2K   \u001b[90m━━━━━━━━━━━━━━━━━━━━━━━━━━━━━━━━━━━━━━━━\u001b[0m \u001b[32m2.2/2.2 MB\u001b[0m \u001b[31m3.5 MB/s\u001b[0m eta \u001b[36m0:00:00\u001b[0ma \u001b[36m0:00:01\u001b[0m\n",
      "\u001b[?25hDownloading fsspec-2024.9.0-py3-none-any.whl (179 kB)\n",
      "Using cached h11-0.14.0-py3-none-any.whl (58 kB)\n",
      "Downloading kiwisolver-1.4.7-cp311-cp311-macosx_11_0_arm64.whl (64 kB)\n",
      "Downloading pyparsing-3.1.4-py3-none-any.whl (104 kB)\n",
      "Downloading rich-13.8.0-py3-none-any.whl (241 kB)\n",
      "Using cached shellingham-1.5.4-py2.py3-none-any.whl (9.8 kB)\n",
      "Using cached starlette-0.38.5-py3-none-any.whl (71 kB)\n",
      "Downloading tqdm-4.66.5-py3-none-any.whl (78 kB)\n",
      "Using cached tzdata-2024.1-py2.py3-none-any.whl (345 kB)\n",
      "Downloading websockets-12.0-cp311-cp311-macosx_11_0_arm64.whl (121 kB)\n",
      "Downloading filelock-3.16.0-py3-none-any.whl (16 kB)\n",
      "Using cached markdown_it_py-3.0.0-py3-none-any.whl (87 kB)\n",
      "Using cached mdurl-0.1.2-py3-none-any.whl (10.0 kB)\n",
      "Installing collected packages: pydub, websockets, tzdata, tqdm, tomlkit, shellingham, semantic-version, ruff, python-multipart, python-dotenv, pyparsing, pillow, orjson, mdurl, kiwisolver, importlib-resources, h11, fsspec, fonttools, filelock, ffmpy, cycler, contourpy, click, aiofiles, uvicorn, starlette, pandas, matplotlib, markdown-it-py, huggingface-hub, httpcore, rich, httpx, fastapi, typer, gradio-client, gradio\n",
      "Successfully installed aiofiles-23.2.1 click-8.1.7 contourpy-1.3.0 cycler-0.12.1 fastapi-0.112.4 ffmpy-0.4.0 filelock-3.16.0 fonttools-4.53.1 fsspec-2024.9.0 gradio-4.43.0 gradio-client-1.3.0 h11-0.14.0 httpcore-1.0.5 httpx-0.27.2 huggingface-hub-0.24.6 importlib-resources-6.4.5 kiwisolver-1.4.7 markdown-it-py-3.0.0 matplotlib-3.9.2 mdurl-0.1.2 orjson-3.10.7 pandas-2.2.2 pillow-10.4.0 pydub-0.25.1 pyparsing-3.1.4 python-dotenv-1.0.1 python-multipart-0.0.9 rich-13.8.0 ruff-0.6.4 semantic-version-2.10.0 shellingham-1.5.4 starlette-0.38.5 tomlkit-0.12.0 tqdm-4.66.5 typer-0.12.5 tzdata-2024.1 uvicorn-0.30.6 websockets-12.0\n",
      "Note: you may need to restart the kernel to use updated packages.\n"
     ]
    }
   ],
   "source": [
    "pip install python-dotenv gradio swarmauri\n"
   ]
  },
  {
   "cell_type": "code",
   "execution_count": 6,
   "id": "a773e145-afd9-45ad-bb6c-38c828a9fee4",
   "metadata": {},
   "outputs": [
    {
     "name": "stdout",
     "output_type": "stream",
     "text": [
      "Collecting groq\n",
      "  Using cached groq-0.11.0-py3-none-any.whl.metadata (13 kB)\n",
      "Requirement already satisfied: anyio<5,>=3.5.0 in /opt/anaconda3/envs/notebook/lib/python3.11/site-packages (from groq) (4.2.0)\n",
      "Collecting distro<2,>=1.7.0 (from groq)\n",
      "  Downloading distro-1.9.0-py3-none-any.whl.metadata (6.8 kB)\n",
      "Requirement already satisfied: httpx<1,>=0.23.0 in /opt/anaconda3/envs/notebook/lib/python3.11/site-packages (from groq) (0.27.2)\n",
      "Requirement already satisfied: pydantic<3,>=1.9.0 in /opt/anaconda3/envs/notebook/lib/python3.11/site-packages (from groq) (2.9.1)\n",
      "Requirement already satisfied: sniffio in /opt/anaconda3/envs/notebook/lib/python3.11/site-packages (from groq) (1.3.0)\n",
      "Requirement already satisfied: typing-extensions<5,>=4.7 in /opt/anaconda3/envs/notebook/lib/python3.11/site-packages (from groq) (4.11.0)\n",
      "Requirement already satisfied: idna>=2.8 in /opt/anaconda3/envs/notebook/lib/python3.11/site-packages (from anyio<5,>=3.5.0->groq) (3.7)\n",
      "Requirement already satisfied: certifi in /opt/anaconda3/envs/notebook/lib/python3.11/site-packages (from httpx<1,>=0.23.0->groq) (2024.8.30)\n",
      "Requirement already satisfied: httpcore==1.* in /opt/anaconda3/envs/notebook/lib/python3.11/site-packages (from httpx<1,>=0.23.0->groq) (1.0.5)\n",
      "Requirement already satisfied: h11<0.15,>=0.13 in /opt/anaconda3/envs/notebook/lib/python3.11/site-packages (from httpcore==1.*->httpx<1,>=0.23.0->groq) (0.14.0)\n",
      "Requirement already satisfied: annotated-types>=0.6.0 in /opt/anaconda3/envs/notebook/lib/python3.11/site-packages (from pydantic<3,>=1.9.0->groq) (0.7.0)\n",
      "Requirement already satisfied: pydantic-core==2.23.3 in /opt/anaconda3/envs/notebook/lib/python3.11/site-packages (from pydantic<3,>=1.9.0->groq) (2.23.3)\n",
      "Using cached groq-0.11.0-py3-none-any.whl (106 kB)\n",
      "Downloading distro-1.9.0-py3-none-any.whl (20 kB)\n",
      "Installing collected packages: distro, groq\n",
      "Successfully installed distro-1.9.0 groq-0.11.0\n",
      "Note: you may need to restart the kernel to use updated packages.\n"
     ]
    }
   ],
   "source": [
    "pip install groq\n"
   ]
  },
  {
   "cell_type": "code",
   "execution_count": 1,
   "id": "59fc50e7-3bca-41b2-9531-115c02ef58ef",
   "metadata": {},
   "outputs": [],
   "source": [
    "from dotenv import load_dotenv\n",
    "import json\n",
    "import os\n",
    "import gradio as gr\n",
    "from swarmauri.standard.llms.concrete.GroqModel import GroqModel\n",
    "from swarmauri.standard.messages.concrete.SystemMessage import SystemMessage\n",
    "from swarmauri.standard.agents.concrete.SimpleConversationAgent import SimpleConversationAgent\n",
    "from swarmauri.standard.conversations.concrete.MaxSystemContextConversation import MaxSystemContextConversation\n"
   ]
  },
  {
   "cell_type": "code",
   "execution_count": 8,
   "id": "544da18a-92c8-4af4-870b-61d74acfda93",
   "metadata": {},
   "outputs": [
    {
     "data": {
      "text/plain": [
       "False"
      ]
     },
     "execution_count": 8,
     "metadata": {},
     "output_type": "execute_result"
    }
   ],
   "source": [
    "# Load environment variables\n",
    "load_dotenv()"
   ]
  },
  {
   "cell_type": "code",
   "execution_count": null,
   "id": "bdbc747d-5ef4-443c-9b4c-4682c9f284c6",
   "metadata": {},
   "outputs": [],
   "source": [
    "# Setup GroqModel and SystemMessage\n",
    "api_key = os.getenv('API_KEY')  # Replace with your actual environment variable\n",
    "model = GroqModel(api_key=api_key)\n",
    "system_message = SystemMessage()"
   ]
  },
  {
   "cell_type": "code",
   "execution_count": 4,
   "id": "0d9b755f-7128-4b9d-b4e2-1602a403c459",
   "metadata": {},
   "outputs": [],
   "source": [
    "# Define a simple function for Gradio interface\n",
    "def respond_to_query(query):\n",
    "    response = model.get_response(query, system_message)\n",
    "    return response"
   ]
  },
  {
   "cell_type": "code",
   "execution_count": null,
   "id": "e52430e9-5039-4839-a33e-6620406ef5df",
   "metadata": {},
   "outputs": [],
   "source": [
    "# Initialize conversation agent\n",
    "conversation_agent = SimpleConversationAgent(model=model, system_message=system_message)"
   ]
  },
  {
   "cell_type": "code",
   "execution_count": 9,
   "id": "2e50914c-53c7-4cb4-af29-717bfe47edc9",
   "metadata": {},
   "outputs": [],
   "source": [
    "# Define nutrition supplements data\n",
    "supplements_data = {\n",
    "    'protein': {\n",
    "        'name': 'Whey Protein',\n",
    "        'serving_per_kg': 1.6,\n",
    "        'timing': 'post-workout'\n",
    "    },\n",
    "    'creatine': {\n",
    "        'name': 'Creatine Monohydrate',\n",
    "        'serving_per_kg': 0.03,\n",
    "        'timing': 'pre-workout'\n",
    "    },\n",
    "    'bcaa': {\n",
    "        'name': 'BCAA',\n",
    "        'serving_per_kg': 0.05,\n",
    "        'timing': 'during workout'\n",
    "    },\n",
    "    'beta-alanine': {\n",
    "        'name': 'Beta-Alanine',\n",
    "        'serving_per_kg': 0.04,\n",
    "        'timing': 'pre-workout'\n",
    "    },\n",
    "    'glutamine': {\n",
    "        'name': 'Glutamine',\n",
    "        'serving_per_kg': 0.1,\n",
    "        'timing': 'post-workout'\n",
    "    },\n",
    "    'omega-3': {\n",
    "        'name': 'Omega-3 Fish Oil',\n",
    "        'serving_per_kg': 0.02,\n",
    "        'timing': 'daily with meals'\n",
    "    }\n",
    "}\n"
   ]
  },
  {
   "cell_type": "code",
   "execution_count": 10,
   "id": "6f9bc09e-2737-49ee-ba7a-28c2b044bb4e",
   "metadata": {},
   "outputs": [],
   "source": [
    "# Calculate supplement servings based on weight\n",
    "def calculate_serving(supplement, weight):\n",
    "    serving_per_kg = supplement['serving_per_kg']\n",
    "    return serving_per_kg * weight"
   ]
  },
  {
   "cell_type": "code",
   "execution_count": 11,
   "id": "0dc8c8d4-e5ac-435c-b8fd-f4b02b05ea9c",
   "metadata": {},
   "outputs": [],
   "source": [
    "# Generate a recommendation based on user's body weight\n",
    "def recommend_supplements(weight):\n",
    "    recommendations = []\n",
    "    for supplement_key, supplement_info in supplements_data.items():\n",
    "        servings = calculate_serving(supplement_info, weight)\n",
    "        recommendations.append(f\"{supplement_info['name']}: {servings:.2f} grams {supplement_info['timing']}.\")\n",
    "    return recommendations"
   ]
  },
  {
   "cell_type": "code",
   "execution_count": 12,
   "id": "f357d46c-6c3b-41bb-a7b7-1f6162b715f5",
   "metadata": {},
   "outputs": [],
   "source": [
    "# Handle chatbot responses\n",
    "def chatbot_response(user_input):\n",
    "    try:\n",
    "        weight = float(user_input.split()[-1])  # Assumes user enters weight as last word\n",
    "        recommendations = recommend_supplements(weight)\n",
    "        response = \"Based on your weight, here are your supplement recommendations:\\n\" + \"\\n\".join(recommendations)\n",
    "        return response\n",
    "    except ValueError:\n",
    "        return \"Please provide your weight in kilograms to get supplement recommendations.\"\n"
   ]
  },
  {
   "cell_type": "code",
   "execution_count": 13,
   "id": "7512c263-4944-4a51-b1a8-717414b1135b",
   "metadata": {},
   "outputs": [],
   "source": [
    "# Gradio interface\n",
    "def gradio_interface(user_input):\n",
    "    return chatbot_response(user_input)"
   ]
  },
  {
   "cell_type": "code",
   "execution_count": 14,
   "id": "9ef1d329-4f75-46a6-b239-064f9967e936",
   "metadata": {},
   "outputs": [],
   "source": [
    "iface = gr.Interface(fn=gradio_interface, inputs=\"text\", outputs=\"text\")"
   ]
  },
  {
   "cell_type": "code",
   "execution_count": 15,
   "id": "4a920402-5760-4c92-a0a2-6f50625d6ace",
   "metadata": {},
   "outputs": [
    {
     "name": "stdout",
     "output_type": "stream",
     "text": [
      "Running on local URL:  http://127.0.0.1:7860\n",
      "\n",
      "To create a public link, set `share=True` in `launch()`.\n"
     ]
    },
    {
     "data": {
      "text/html": [
       "<div><iframe src=\"http://127.0.0.1:7860/\" width=\"100%\" height=\"500\" allow=\"autoplay; camera; microphone; clipboard-read; clipboard-write;\" frameborder=\"0\" allowfullscreen></iframe></div>"
      ],
      "text/plain": [
       "<IPython.core.display.HTML object>"
      ]
     },
     "metadata": {},
     "output_type": "display_data"
    },
    {
     "data": {
      "text/plain": []
     },
     "execution_count": 15,
     "metadata": {},
     "output_type": "execute_result"
    }
   ],
   "source": [
    "# Launch Gradio app\n",
    "iface.launch()"
   ]
  },
  {
   "cell_type": "code",
   "execution_count": null,
   "id": "1f754068-071d-4189-b616-ae6f9f45cbef",
   "metadata": {},
   "outputs": [],
   "source": []
  }
 ],
 "metadata": {
  "kernelspec": {
   "display_name": "Python 3 (ipykernel)",
   "language": "python",
   "name": "python3"
  },
  "language_info": {
   "codemirror_mode": {
    "name": "ipython",
    "version": 3
   },
   "file_extension": ".py",
   "mimetype": "text/x-python",
   "name": "python",
   "nbconvert_exporter": "python",
   "pygments_lexer": "ipython3",
   "version": "3.12.4"
  }
 },
 "nbformat": 4,
 "nbformat_minor": 5
}
